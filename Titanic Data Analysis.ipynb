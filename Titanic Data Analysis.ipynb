{
 "cells": [
  {
   "cell_type": "markdown",
   "metadata": {},
   "source": [
    "# INVESTIGATING THE TITANIC"
   ]
  },
  {
   "cell_type": "markdown",
   "metadata": {},
   "source": [
    "### Background\n",
    "\n",
    "The purpose of this project is to perform data analysis on a sample dataset. In this case, the dataset is a passenger manifesto of the infamous Titanic disaster, which provides demographic information about the passengers who survived and did not suvive the disaster. Do note that the dataset only contains information about 891 of the 2,224 passengers and crew members on board the Titanic. It is assumed that the sample size of 891 passengers is a fair representation of the passengers on board the Titanic\n",
    "\n",
    "This dataset was obtained from the Kaggle website (https://www.kaggle.com/c/titanic/data)."
   ]
  },
  {
   "cell_type": "markdown",
   "metadata": {},
   "source": [
    "## Investigation\n",
    "\n",
    "It is a known fact that one of the reasons this particular disaster led to such a loss of life was because there was an insufficient number of lifeboats to cater for everyone on board. Although we would like to assume that in the face of impending doom, people would remain civil enough to save the women and children first regardless of social-economic standing, I would like to confirm this theory. To do this, I will attempt to address the following questions:\n",
    "\n",
    "1. What was the survival rate by age?\n",
    "2. What was the survival rate by gender?\n",
    "3. Did women and children really have a higher chance of survival?\n",
    "4. Being a male aged 32, what would be my chances of survival in a similar situation?\n",
    "5. Did social-economic standing help a passenger's chances of survival?\n",
    "\n"
   ]
  },
  {
   "cell_type": "markdown",
   "metadata": {},
   "source": [
    "## Data Wrangling\n",
    "\n",
    "It is important before embarking on this analysis, to first understand the dataset that I will be analyzing. Each row in the dataset provided represents a single passenger on the Titanic with the following information given for each passenger:\n",
    "\n",
    "- **Survived**: indicates if the passenger survived (0=No; 1=Yes) \n",
    "- **Pclass**: passenger class (1=1st class; 2=2nd class; 3=3rd class) \n",
    "- **Name**: name\n",
    "- **Sex**: gender\n",
    "- **Age**: age (in years)\n",
    "- **SibSp**: number of siblings/spouse aboard\n",
    "- **Parch**: number of parents/children aboard\n",
    "- **Ticket**: ticket number\n",
    "- **Fare**: fare paid\n",
    "- **Cabin**: cabin number\n",
    "- **Embarked**: port of embarkation (C=Cherbourg; Q=Queenstown; S=Southampton)\n",
    "\n",
    "It is important to note for the purpose of this analysis that 'Pclass' will be use as the proxy for social-economic status/standing, 1st class being upperclass, 2nd class being middleclass, and 3rd class being lowerclass.\n",
    "\n",
    "With respect to the family relationship variables (i.e. sibsp and parch) some relations were ignored. The following are the definitions used for sibsp and parch.\n",
    "- **Sibling**: brother, sister, stepbrother, or stepsister of passenger aboard Titanic\n",
    "- **Spouse**: husband or wife of passenger aboard Titanic (mistresses and fiances ignored)\n",
    "- **Parent**: mother or father of passenger aboard Titanic\n",
    "- **Child**: son, daughter, stepson, or stepdaughter of passenger aboard Titanic"
   ]
  },
  {
   "cell_type": "markdown",
   "metadata": {},
   "source": [
    "### Reviewing Dataset\n",
    "\n",
    "The following section is to import critical libraries as well as to read and load in the dataset"
   ]
  },
  {
   "cell_type": "code",
   "execution_count": 1,
   "metadata": {},
   "outputs": [
    {
     "data": {
      "text/html": [
       "<div>\n",
       "<style>\n",
       "    .dataframe thead tr:only-child th {\n",
       "        text-align: right;\n",
       "    }\n",
       "\n",
       "    .dataframe thead th {\n",
       "        text-align: left;\n",
       "    }\n",
       "\n",
       "    .dataframe tbody tr th {\n",
       "        vertical-align: top;\n",
       "    }\n",
       "</style>\n",
       "<table border=\"1\" class=\"dataframe\">\n",
       "  <thead>\n",
       "    <tr style=\"text-align: right;\">\n",
       "      <th></th>\n",
       "      <th>PassengerId</th>\n",
       "      <th>Survived</th>\n",
       "      <th>Pclass</th>\n",
       "      <th>Name</th>\n",
       "      <th>Sex</th>\n",
       "      <th>Age</th>\n",
       "      <th>SibSp</th>\n",
       "      <th>Parch</th>\n",
       "      <th>Ticket</th>\n",
       "      <th>Fare</th>\n",
       "      <th>Cabin</th>\n",
       "      <th>Embarked</th>\n",
       "      <th>Unnamed: 12</th>\n",
       "      <th>Unnamed: 13</th>\n",
       "      <th>Unnamed: 14</th>\n",
       "      <th>Unnamed: 15</th>\n",
       "      <th>Unnamed: 16</th>\n",
       "    </tr>\n",
       "  </thead>\n",
       "  <tbody>\n",
       "    <tr>\n",
       "      <th>0</th>\n",
       "      <td>1</td>\n",
       "      <td>0</td>\n",
       "      <td>3</td>\n",
       "      <td>Braund, Mr. Owen Harris</td>\n",
       "      <td>male</td>\n",
       "      <td>22.0</td>\n",
       "      <td>1</td>\n",
       "      <td>0</td>\n",
       "      <td>A/5 21171</td>\n",
       "      <td>7.2500</td>\n",
       "      <td>NaN</td>\n",
       "      <td>S</td>\n",
       "      <td>NaN</td>\n",
       "      <td>NaN</td>\n",
       "      <td>NaN</td>\n",
       "      <td>NaN</td>\n",
       "      <td>NaN</td>\n",
       "    </tr>\n",
       "    <tr>\n",
       "      <th>1</th>\n",
       "      <td>2</td>\n",
       "      <td>1</td>\n",
       "      <td>1</td>\n",
       "      <td>Cumings, Mrs. John Bradley (Florence Briggs Th...</td>\n",
       "      <td>female</td>\n",
       "      <td>38.0</td>\n",
       "      <td>1</td>\n",
       "      <td>0</td>\n",
       "      <td>PC 17599</td>\n",
       "      <td>71.2833</td>\n",
       "      <td>C85</td>\n",
       "      <td>C</td>\n",
       "      <td>NaN</td>\n",
       "      <td>NaN</td>\n",
       "      <td>NaN</td>\n",
       "      <td>NaN</td>\n",
       "      <td>NaN</td>\n",
       "    </tr>\n",
       "    <tr>\n",
       "      <th>2</th>\n",
       "      <td>3</td>\n",
       "      <td>1</td>\n",
       "      <td>3</td>\n",
       "      <td>Heikkinen, Miss. Laina</td>\n",
       "      <td>female</td>\n",
       "      <td>26.0</td>\n",
       "      <td>0</td>\n",
       "      <td>0</td>\n",
       "      <td>STON/O2. 3101282</td>\n",
       "      <td>7.9250</td>\n",
       "      <td>NaN</td>\n",
       "      <td>S</td>\n",
       "      <td>NaN</td>\n",
       "      <td>NaN</td>\n",
       "      <td>NaN</td>\n",
       "      <td>NaN</td>\n",
       "      <td>NaN</td>\n",
       "    </tr>\n",
       "    <tr>\n",
       "      <th>3</th>\n",
       "      <td>4</td>\n",
       "      <td>1</td>\n",
       "      <td>1</td>\n",
       "      <td>Futrelle, Mrs. Jacques Heath (Lily May Peel)</td>\n",
       "      <td>female</td>\n",
       "      <td>35.0</td>\n",
       "      <td>1</td>\n",
       "      <td>0</td>\n",
       "      <td>113803</td>\n",
       "      <td>53.1000</td>\n",
       "      <td>C123</td>\n",
       "      <td>S</td>\n",
       "      <td>NaN</td>\n",
       "      <td>NaN</td>\n",
       "      <td>NaN</td>\n",
       "      <td>NaN</td>\n",
       "      <td>NaN</td>\n",
       "    </tr>\n",
       "    <tr>\n",
       "      <th>4</th>\n",
       "      <td>5</td>\n",
       "      <td>0</td>\n",
       "      <td>3</td>\n",
       "      <td>Allen, Mr. William Henry</td>\n",
       "      <td>male</td>\n",
       "      <td>35.0</td>\n",
       "      <td>0</td>\n",
       "      <td>0</td>\n",
       "      <td>373450</td>\n",
       "      <td>8.0500</td>\n",
       "      <td>NaN</td>\n",
       "      <td>S</td>\n",
       "      <td>NaN</td>\n",
       "      <td>NaN</td>\n",
       "      <td>NaN</td>\n",
       "      <td>NaN</td>\n",
       "      <td>NaN</td>\n",
       "    </tr>\n",
       "  </tbody>\n",
       "</table>\n",
       "</div>"
      ],
      "text/plain": [
       "   PassengerId  Survived  Pclass  \\\n",
       "0            1         0       3   \n",
       "1            2         1       1   \n",
       "2            3         1       3   \n",
       "3            4         1       1   \n",
       "4            5         0       3   \n",
       "\n",
       "                                                Name     Sex   Age  SibSp  \\\n",
       "0                            Braund, Mr. Owen Harris    male  22.0      1   \n",
       "1  Cumings, Mrs. John Bradley (Florence Briggs Th...  female  38.0      1   \n",
       "2                             Heikkinen, Miss. Laina  female  26.0      0   \n",
       "3       Futrelle, Mrs. Jacques Heath (Lily May Peel)  female  35.0      1   \n",
       "4                           Allen, Mr. William Henry    male  35.0      0   \n",
       "\n",
       "   Parch            Ticket     Fare Cabin Embarked  Unnamed: 12  Unnamed: 13  \\\n",
       "0      0         A/5 21171   7.2500   NaN        S          NaN          NaN   \n",
       "1      0          PC 17599  71.2833   C85        C          NaN          NaN   \n",
       "2      0  STON/O2. 3101282   7.9250   NaN        S          NaN          NaN   \n",
       "3      0            113803  53.1000  C123        S          NaN          NaN   \n",
       "4      0            373450   8.0500   NaN        S          NaN          NaN   \n",
       "\n",
       "   Unnamed: 14  Unnamed: 15  Unnamed: 16  \n",
       "0          NaN          NaN          NaN  \n",
       "1          NaN          NaN          NaN  \n",
       "2          NaN          NaN          NaN  \n",
       "3          NaN          NaN          NaN  \n",
       "4          NaN          NaN          NaN  "
      ]
     },
     "execution_count": 1,
     "metadata": {},
     "output_type": "execute_result"
    }
   ],
   "source": [
    "# Render plots inline\n",
    "%matplotlib inline\n",
    "\n",
    "# Import libraries\n",
    "import pandas as pd\n",
    "import numpy as np\n",
    "import matplotlib.pyplot as plt\n",
    "import seaborn as sns\n",
    "\n",
    "# Set style for all graphs\n",
    "sns.set_style(\"dark\")\n",
    "\n",
    "# Read in the dataset, create dataframe\n",
    "titanic_data = pd.read_csv('titanic_data.csv')\n",
    "\n",
    "# Review format\n",
    "titanic_data.head()"
   ]
  },
  {
   "cell_type": "code",
   "execution_count": 2,
   "metadata": {},
   "outputs": [
    {
     "data": {
      "text/plain": [
       "PassengerId      int64\n",
       "Survived         int64\n",
       "Pclass           int64\n",
       "Name            object\n",
       "Sex             object\n",
       "Age            float64\n",
       "SibSp            int64\n",
       "Parch            int64\n",
       "Ticket          object\n",
       "Fare           float64\n",
       "Cabin           object\n",
       "Embarked        object\n",
       "Unnamed: 12    float64\n",
       "Unnamed: 13    float64\n",
       "Unnamed: 14    float64\n",
       "Unnamed: 15    float64\n",
       "Unnamed: 16    float64\n",
       "dtype: object"
      ]
     },
     "execution_count": 2,
     "metadata": {},
     "output_type": "execute_result"
    }
   ],
   "source": [
    "# Review data types\n",
    "titanic_data.dtypes"
   ]
  },
  {
   "cell_type": "markdown",
   "metadata": {},
   "source": [
    "### Cleaning Dataset\n",
    "\n",
    "Based on the questions posed above and data available, I have deemed the following columns unneccesary to the analysis and hence will proceed to remove them from the dataset for analysis:\n",
    "\n",
    "- **PassengerId**: unique identifier but provides no statistical value \n",
    "- **Name**: unique identifier but provides no statistical value \n",
    "- **Ticket**: unique identifier but provides no statistical value \n",
    "- **Cabin**: this would be relevant if we knew the location of the cabins and therefore could speculate that survival rate had some correlation with location of cabin. But because we do not have that information, this column is not required.\n",
    "- **Fare**: as Pclass is being used as a proxy for social-economic standing, this value is redundant\n",
    "\n",
    "Along with removing the columns above, I will also check for duplicates and data format issues. Before removing the columns that help us identify each passenger uniquely, I will first remove duplicate entries, followed by removing unneccessary columns and lastly, fix data format issues."
   ]
  },
  {
   "cell_type": "code",
   "execution_count": 3,
   "metadata": {},
   "outputs": [
    {
     "name": "stdout",
     "output_type": "stream",
     "text": [
      "Number of duplicated entries: 0\n"
     ]
    }
   ],
   "source": [
    "# Remove duplicate entries\n",
    "duplicated_entries = titanic_data.duplicated()\n",
    "print 'Number of duplicated entries: ' + str(duplicated_entries.sum())"
   ]
  },
  {
   "cell_type": "code",
   "execution_count": 4,
   "metadata": {},
   "outputs": [
    {
     "data": {
      "text/html": [
       "<div>\n",
       "<style>\n",
       "    .dataframe thead tr:only-child th {\n",
       "        text-align: right;\n",
       "    }\n",
       "\n",
       "    .dataframe thead th {\n",
       "        text-align: left;\n",
       "    }\n",
       "\n",
       "    .dataframe tbody tr th {\n",
       "        vertical-align: top;\n",
       "    }\n",
       "</style>\n",
       "<table border=\"1\" class=\"dataframe\">\n",
       "  <thead>\n",
       "    <tr style=\"text-align: right;\">\n",
       "      <th></th>\n",
       "      <th>Survived</th>\n",
       "      <th>Pclass</th>\n",
       "      <th>Sex</th>\n",
       "      <th>Age</th>\n",
       "      <th>SibSp</th>\n",
       "      <th>Parch</th>\n",
       "      <th>Embarked</th>\n",
       "      <th>Unnamed: 12</th>\n",
       "      <th>Unnamed: 13</th>\n",
       "      <th>Unnamed: 14</th>\n",
       "      <th>Unnamed: 15</th>\n",
       "      <th>Unnamed: 16</th>\n",
       "    </tr>\n",
       "  </thead>\n",
       "  <tbody>\n",
       "    <tr>\n",
       "      <th>0</th>\n",
       "      <td>0</td>\n",
       "      <td>3</td>\n",
       "      <td>male</td>\n",
       "      <td>22.0</td>\n",
       "      <td>1</td>\n",
       "      <td>0</td>\n",
       "      <td>S</td>\n",
       "      <td>NaN</td>\n",
       "      <td>NaN</td>\n",
       "      <td>NaN</td>\n",
       "      <td>NaN</td>\n",
       "      <td>NaN</td>\n",
       "    </tr>\n",
       "    <tr>\n",
       "      <th>1</th>\n",
       "      <td>1</td>\n",
       "      <td>1</td>\n",
       "      <td>female</td>\n",
       "      <td>38.0</td>\n",
       "      <td>1</td>\n",
       "      <td>0</td>\n",
       "      <td>C</td>\n",
       "      <td>NaN</td>\n",
       "      <td>NaN</td>\n",
       "      <td>NaN</td>\n",
       "      <td>NaN</td>\n",
       "      <td>NaN</td>\n",
       "    </tr>\n",
       "    <tr>\n",
       "      <th>2</th>\n",
       "      <td>1</td>\n",
       "      <td>3</td>\n",
       "      <td>female</td>\n",
       "      <td>26.0</td>\n",
       "      <td>0</td>\n",
       "      <td>0</td>\n",
       "      <td>S</td>\n",
       "      <td>NaN</td>\n",
       "      <td>NaN</td>\n",
       "      <td>NaN</td>\n",
       "      <td>NaN</td>\n",
       "      <td>NaN</td>\n",
       "    </tr>\n",
       "    <tr>\n",
       "      <th>3</th>\n",
       "      <td>1</td>\n",
       "      <td>1</td>\n",
       "      <td>female</td>\n",
       "      <td>35.0</td>\n",
       "      <td>1</td>\n",
       "      <td>0</td>\n",
       "      <td>S</td>\n",
       "      <td>NaN</td>\n",
       "      <td>NaN</td>\n",
       "      <td>NaN</td>\n",
       "      <td>NaN</td>\n",
       "      <td>NaN</td>\n",
       "    </tr>\n",
       "    <tr>\n",
       "      <th>4</th>\n",
       "      <td>0</td>\n",
       "      <td>3</td>\n",
       "      <td>male</td>\n",
       "      <td>35.0</td>\n",
       "      <td>0</td>\n",
       "      <td>0</td>\n",
       "      <td>S</td>\n",
       "      <td>NaN</td>\n",
       "      <td>NaN</td>\n",
       "      <td>NaN</td>\n",
       "      <td>NaN</td>\n",
       "      <td>NaN</td>\n",
       "    </tr>\n",
       "  </tbody>\n",
       "</table>\n",
       "</div>"
      ],
      "text/plain": [
       "   Survived  Pclass     Sex   Age  SibSp  Parch Embarked  Unnamed: 12  \\\n",
       "0         0       3    male  22.0      1      0        S          NaN   \n",
       "1         1       1  female  38.0      1      0        C          NaN   \n",
       "2         1       3  female  26.0      0      0        S          NaN   \n",
       "3         1       1  female  35.0      1      0        S          NaN   \n",
       "4         0       3    male  35.0      0      0        S          NaN   \n",
       "\n",
       "   Unnamed: 13  Unnamed: 14  Unnamed: 15  Unnamed: 16  \n",
       "0          NaN          NaN          NaN          NaN  \n",
       "1          NaN          NaN          NaN          NaN  \n",
       "2          NaN          NaN          NaN          NaN  \n",
       "3          NaN          NaN          NaN          NaN  \n",
       "4          NaN          NaN          NaN          NaN  "
      ]
     },
     "execution_count": 4,
     "metadata": {},
     "output_type": "execute_result"
    }
   ],
   "source": [
    "# Remove unneccesary columns\n",
    "titanic_data_clean = titanic_data.drop(['PassengerId','Name','Ticket','Cabin','Fare'], axis=1)\n",
    "titanic_data_clean.head()"
   ]
  },
  {
   "cell_type": "code",
   "execution_count": 5,
   "metadata": {},
   "outputs": [
    {
     "data": {
      "text/plain": [
       "Survived         0\n",
       "Pclass           0\n",
       "Sex              0\n",
       "Age            177\n",
       "SibSp            0\n",
       "Parch            0\n",
       "Embarked         2\n",
       "Unnamed: 12    891\n",
       "Unnamed: 13    889\n",
       "Unnamed: 14    891\n",
       "Unnamed: 15    891\n",
       "Unnamed: 16    890\n",
       "dtype: int64"
      ]
     },
     "execution_count": 5,
     "metadata": {},
     "output_type": "execute_result"
    }
   ],
   "source": [
    "# Fix data format issues\n",
    "titanic_data_clean.isnull().sum()"
   ]
  },
  {
   "cell_type": "code",
   "execution_count": 6,
   "metadata": {},
   "outputs": [
    {
     "data": {
      "text/html": [
       "<div>\n",
       "<style>\n",
       "    .dataframe thead tr:only-child th {\n",
       "        text-align: right;\n",
       "    }\n",
       "\n",
       "    .dataframe thead th {\n",
       "        text-align: left;\n",
       "    }\n",
       "\n",
       "    .dataframe tbody tr th {\n",
       "        vertical-align: top;\n",
       "    }\n",
       "</style>\n",
       "<table border=\"1\" class=\"dataframe\">\n",
       "  <thead>\n",
       "    <tr style=\"text-align: right;\">\n",
       "      <th></th>\n",
       "      <th>Survived</th>\n",
       "      <th>Pclass</th>\n",
       "      <th>Sex</th>\n",
       "      <th>Age</th>\n",
       "      <th>SibSp</th>\n",
       "      <th>Parch</th>\n",
       "      <th>Embarked</th>\n",
       "      <th>Unnamed: 12</th>\n",
       "      <th>Unnamed: 13</th>\n",
       "      <th>Unnamed: 14</th>\n",
       "      <th>Unnamed: 15</th>\n",
       "      <th>Unnamed: 16</th>\n",
       "    </tr>\n",
       "  </thead>\n",
       "  <tbody>\n",
       "    <tr>\n",
       "      <th>5</th>\n",
       "      <td>0</td>\n",
       "      <td>3</td>\n",
       "      <td>male</td>\n",
       "      <td>NaN</td>\n",
       "      <td>0</td>\n",
       "      <td>0</td>\n",
       "      <td>Q</td>\n",
       "      <td>NaN</td>\n",
       "      <td>NaN</td>\n",
       "      <td>NaN</td>\n",
       "      <td>NaN</td>\n",
       "      <td>NaN</td>\n",
       "    </tr>\n",
       "    <tr>\n",
       "      <th>17</th>\n",
       "      <td>1</td>\n",
       "      <td>2</td>\n",
       "      <td>male</td>\n",
       "      <td>NaN</td>\n",
       "      <td>0</td>\n",
       "      <td>0</td>\n",
       "      <td>S</td>\n",
       "      <td>NaN</td>\n",
       "      <td>NaN</td>\n",
       "      <td>NaN</td>\n",
       "      <td>NaN</td>\n",
       "      <td>NaN</td>\n",
       "    </tr>\n",
       "    <tr>\n",
       "      <th>19</th>\n",
       "      <td>1</td>\n",
       "      <td>3</td>\n",
       "      <td>female</td>\n",
       "      <td>NaN</td>\n",
       "      <td>0</td>\n",
       "      <td>0</td>\n",
       "      <td>C</td>\n",
       "      <td>NaN</td>\n",
       "      <td>NaN</td>\n",
       "      <td>NaN</td>\n",
       "      <td>NaN</td>\n",
       "      <td>NaN</td>\n",
       "    </tr>\n",
       "    <tr>\n",
       "      <th>26</th>\n",
       "      <td>0</td>\n",
       "      <td>3</td>\n",
       "      <td>male</td>\n",
       "      <td>NaN</td>\n",
       "      <td>0</td>\n",
       "      <td>0</td>\n",
       "      <td>C</td>\n",
       "      <td>NaN</td>\n",
       "      <td>NaN</td>\n",
       "      <td>NaN</td>\n",
       "      <td>NaN</td>\n",
       "      <td>NaN</td>\n",
       "    </tr>\n",
       "    <tr>\n",
       "      <th>28</th>\n",
       "      <td>1</td>\n",
       "      <td>3</td>\n",
       "      <td>female</td>\n",
       "      <td>NaN</td>\n",
       "      <td>0</td>\n",
       "      <td>0</td>\n",
       "      <td>Q</td>\n",
       "      <td>NaN</td>\n",
       "      <td>NaN</td>\n",
       "      <td>NaN</td>\n",
       "      <td>NaN</td>\n",
       "      <td>NaN</td>\n",
       "    </tr>\n",
       "  </tbody>\n",
       "</table>\n",
       "</div>"
      ],
      "text/plain": [
       "    Survived  Pclass     Sex  Age  SibSp  Parch Embarked  Unnamed: 12  \\\n",
       "5          0       3    male  NaN      0      0        Q          NaN   \n",
       "17         1       2    male  NaN      0      0        S          NaN   \n",
       "19         1       3  female  NaN      0      0        C          NaN   \n",
       "26         0       3    male  NaN      0      0        C          NaN   \n",
       "28         1       3  female  NaN      0      0        Q          NaN   \n",
       "\n",
       "    Unnamed: 13  Unnamed: 14  Unnamed: 15  Unnamed: 16  \n",
       "5           NaN          NaN          NaN          NaN  \n",
       "17          NaN          NaN          NaN          NaN  \n",
       "19          NaN          NaN          NaN          NaN  \n",
       "26          NaN          NaN          NaN          NaN  \n",
       "28          NaN          NaN          NaN          NaN  "
      ]
     },
     "execution_count": 6,
     "metadata": {},
     "output_type": "execute_result"
    }
   ],
   "source": [
    "# Review data with missing age\n",
    "age_is_null_entries = pd.isnull(titanic_data_clean['Age'])\n",
    "titanic_data_clean[age_is_null_entries].head()"
   ]
  },
  {
   "cell_type": "markdown",
   "metadata": {},
   "source": [
    "As much of the analysis is based on age and this dataset is itself a sample size (i.e. 891) of the total number of passengers aboard the Titanic (i.e. 2224), I decided to remove the entries where age was null."
   ]
  },
  {
   "cell_type": "code",
   "execution_count": 7,
   "metadata": {},
   "outputs": [
    {
     "data": {
      "text/plain": [
       "Survived         0\n",
       "Pclass           0\n",
       "Sex              0\n",
       "Age              0\n",
       "SibSp            0\n",
       "Parch            0\n",
       "Embarked         2\n",
       "Unnamed: 12    714\n",
       "Unnamed: 13    712\n",
       "Unnamed: 14    714\n",
       "Unnamed: 15    714\n",
       "Unnamed: 16    713\n",
       "dtype: int64"
      ]
     },
     "execution_count": 7,
     "metadata": {},
     "output_type": "execute_result"
    }
   ],
   "source": [
    "# Review data with missing age\n",
    "titanic_data_clean.dropna(subset=['Age'], inplace=True)\n",
    "\n",
    "# Check if age is null data has been removed\n",
    "titanic_data_clean.isnull().sum()"
   ]
  },
  {
   "cell_type": "markdown",
   "metadata": {},
   "source": [
    "I did not feel a need to remove the 2 entries where 'Embarked' was null as it did not constitute a large portion of our dataset. Anyway at this point, I was unsure whether 'Embarked' would be used in the analysis. As such I maintained the column in the event that I wanted to review survival rate by embarkation point.\n",
    "\n",
    "Before proceeding to answer the questions posed, I did one last high-level exploration of the dataset to get a better grasp of the data being analyzed. "
   ]
  },
  {
   "cell_type": "code",
   "execution_count": 8,
   "metadata": {
    "scrolled": true
   },
   "outputs": [
    {
     "data": {
      "text/html": [
       "<div>\n",
       "<style>\n",
       "    .dataframe thead tr:only-child th {\n",
       "        text-align: right;\n",
       "    }\n",
       "\n",
       "    .dataframe thead th {\n",
       "        text-align: left;\n",
       "    }\n",
       "\n",
       "    .dataframe tbody tr th {\n",
       "        vertical-align: top;\n",
       "    }\n",
       "</style>\n",
       "<table border=\"1\" class=\"dataframe\">\n",
       "  <thead>\n",
       "    <tr style=\"text-align: right;\">\n",
       "      <th></th>\n",
       "      <th>Survived</th>\n",
       "      <th>Pclass</th>\n",
       "      <th>Age</th>\n",
       "      <th>SibSp</th>\n",
       "      <th>Parch</th>\n",
       "      <th>Unnamed: 12</th>\n",
       "      <th>Unnamed: 13</th>\n",
       "      <th>Unnamed: 14</th>\n",
       "      <th>Unnamed: 15</th>\n",
       "      <th>Unnamed: 16</th>\n",
       "    </tr>\n",
       "  </thead>\n",
       "  <tbody>\n",
       "    <tr>\n",
       "      <th>count</th>\n",
       "      <td>714.000000</td>\n",
       "      <td>714.000000</td>\n",
       "      <td>714.000000</td>\n",
       "      <td>714.000000</td>\n",
       "      <td>714.000000</td>\n",
       "      <td>0.0</td>\n",
       "      <td>2.000000</td>\n",
       "      <td>0.0</td>\n",
       "      <td>0.0</td>\n",
       "      <td>1.000000</td>\n",
       "    </tr>\n",
       "    <tr>\n",
       "      <th>mean</th>\n",
       "      <td>0.406162</td>\n",
       "      <td>2.236695</td>\n",
       "      <td>29.699118</td>\n",
       "      <td>0.512605</td>\n",
       "      <td>0.431373</td>\n",
       "      <td>NaN</td>\n",
       "      <td>0.440880</td>\n",
       "      <td>NaN</td>\n",
       "      <td>NaN</td>\n",
       "      <td>0.652174</td>\n",
       "    </tr>\n",
       "    <tr>\n",
       "      <th>std</th>\n",
       "      <td>0.491460</td>\n",
       "      <td>0.838250</td>\n",
       "      <td>14.526497</td>\n",
       "      <td>0.929783</td>\n",
       "      <td>0.853289</td>\n",
       "      <td>NaN</td>\n",
       "      <td>0.372879</td>\n",
       "      <td>NaN</td>\n",
       "      <td>NaN</td>\n",
       "      <td>NaN</td>\n",
       "    </tr>\n",
       "    <tr>\n",
       "      <th>min</th>\n",
       "      <td>0.000000</td>\n",
       "      <td>1.000000</td>\n",
       "      <td>0.420000</td>\n",
       "      <td>0.000000</td>\n",
       "      <td>0.000000</td>\n",
       "      <td>NaN</td>\n",
       "      <td>0.177215</td>\n",
       "      <td>NaN</td>\n",
       "      <td>NaN</td>\n",
       "      <td>0.652174</td>\n",
       "    </tr>\n",
       "    <tr>\n",
       "      <th>25%</th>\n",
       "      <td>0.000000</td>\n",
       "      <td>1.000000</td>\n",
       "      <td>20.125000</td>\n",
       "      <td>0.000000</td>\n",
       "      <td>0.000000</td>\n",
       "      <td>NaN</td>\n",
       "      <td>0.309048</td>\n",
       "      <td>NaN</td>\n",
       "      <td>NaN</td>\n",
       "      <td>0.652174</td>\n",
       "    </tr>\n",
       "    <tr>\n",
       "      <th>50%</th>\n",
       "      <td>0.000000</td>\n",
       "      <td>2.000000</td>\n",
       "      <td>28.000000</td>\n",
       "      <td>0.000000</td>\n",
       "      <td>0.000000</td>\n",
       "      <td>NaN</td>\n",
       "      <td>0.440880</td>\n",
       "      <td>NaN</td>\n",
       "      <td>NaN</td>\n",
       "      <td>0.652174</td>\n",
       "    </tr>\n",
       "    <tr>\n",
       "      <th>75%</th>\n",
       "      <td>1.000000</td>\n",
       "      <td>3.000000</td>\n",
       "      <td>38.000000</td>\n",
       "      <td>1.000000</td>\n",
       "      <td>1.000000</td>\n",
       "      <td>NaN</td>\n",
       "      <td>0.572713</td>\n",
       "      <td>NaN</td>\n",
       "      <td>NaN</td>\n",
       "      <td>0.652174</td>\n",
       "    </tr>\n",
       "    <tr>\n",
       "      <th>max</th>\n",
       "      <td>1.000000</td>\n",
       "      <td>3.000000</td>\n",
       "      <td>80.000000</td>\n",
       "      <td>5.000000</td>\n",
       "      <td>6.000000</td>\n",
       "      <td>NaN</td>\n",
       "      <td>0.704545</td>\n",
       "      <td>NaN</td>\n",
       "      <td>NaN</td>\n",
       "      <td>0.652174</td>\n",
       "    </tr>\n",
       "  </tbody>\n",
       "</table>\n",
       "</div>"
      ],
      "text/plain": [
       "         Survived      Pclass         Age       SibSp       Parch  \\\n",
       "count  714.000000  714.000000  714.000000  714.000000  714.000000   \n",
       "mean     0.406162    2.236695   29.699118    0.512605    0.431373   \n",
       "std      0.491460    0.838250   14.526497    0.929783    0.853289   \n",
       "min      0.000000    1.000000    0.420000    0.000000    0.000000   \n",
       "25%      0.000000    1.000000   20.125000    0.000000    0.000000   \n",
       "50%      0.000000    2.000000   28.000000    0.000000    0.000000   \n",
       "75%      1.000000    3.000000   38.000000    1.000000    1.000000   \n",
       "max      1.000000    3.000000   80.000000    5.000000    6.000000   \n",
       "\n",
       "       Unnamed: 12  Unnamed: 13  Unnamed: 14  Unnamed: 15  Unnamed: 16  \n",
       "count          0.0     2.000000          0.0          0.0     1.000000  \n",
       "mean           NaN     0.440880          NaN          NaN     0.652174  \n",
       "std            NaN     0.372879          NaN          NaN          NaN  \n",
       "min            NaN     0.177215          NaN          NaN     0.652174  \n",
       "25%            NaN     0.309048          NaN          NaN     0.652174  \n",
       "50%            NaN     0.440880          NaN          NaN     0.652174  \n",
       "75%            NaN     0.572713          NaN          NaN     0.652174  \n",
       "max            NaN     0.704545          NaN          NaN     0.652174  "
      ]
     },
     "execution_count": 8,
     "metadata": {},
     "output_type": "execute_result"
    }
   ],
   "source": [
    "# Looking at some typical descriptive statistics\n",
    "titanic_data_clean.describe()"
   ]
  },
  {
   "cell_type": "markdown",
   "metadata": {},
   "source": [
    "Some high-level observations:\n",
    "\n",
    "- Approximately 40.6% of the passengers survived\n",
    "- The average Pclass is 2.24, meaning that there are more lower-class passengers in our sample size than upper-class passengers\n",
    "- The average age is 29.7 years old with the youngest person being 0.42 years old and the oldest person being 80 years old\n",
    "\n",
    "As I would be calculating the survival rate for many different categories (age, gender, social-economic status), I started by first creating a few helper functions to calculate survival rate."
   ]
  },
  {
   "cell_type": "code",
   "execution_count": 9,
   "metadata": {
    "collapsed": true
   },
   "outputs": [],
   "source": [
    "# Helper function calculates survival rate for one grouping\n",
    "\n",
    "# Takes in a dataset, column name within the dataset to group by and a certain value in that column\n",
    "# Note: if the column name is 'Age', the user is expected to provide a range (e.g. [45.001,50])\n",
    "# Outputs the survival rate accurate to 2 decimal points\n",
    "def calc_survival_rate_1D(dataframe, group, value):\n",
    "    if group == 'Age':\n",
    "        total_num = dataframe.groupby([group]).size()[value[0]:value[1]].sum().astype('float')\n",
    "        if (dataframe[dataframe['Survived']==1].groupby([group]).size()[value[0]:value[1]].sum()==0):\n",
    "            return 0\n",
    "        else:\n",
    "            survive_num = dataframe[dataframe['Survived']==1].groupby([group]).size()[value[0]:value[1]].sum().astype('float')\n",
    "    else:\n",
    "        total_num = dataframe.groupby([group]).size()[value].astype('float')\n",
    "        survive_num = dataframe[dataframe['Survived']==1].groupby([group]).size()[value].astype('float')\n",
    "    return (survive_num/total_num*100).round(2)\n",
    "\n",
    "# Uncomment for testing\n",
    "#calc_survival_rate_1D(titanic_data_clean,'Pclass',1)\n",
    "#calc_survival_rate_1D(titanic_data_clean,'Age',[45.001,50])"
   ]
  },
  {
   "cell_type": "code",
   "execution_count": 10,
   "metadata": {
    "collapsed": true
   },
   "outputs": [],
   "source": [
    "# Helper function calculates survival rate for two groupings\n",
    "\n",
    "# Takes in a dataset, column names within the dataset to group by and values in the repective columns\n",
    "# Note: if the column name is 'Age', the user is expected to provide a range (e.g. [45.001,50])\n",
    "# Outputs the survival rate accurate to 2 decimal points\n",
    "def calc_survival_rate_2D(dataframe, group, value):\n",
    "    if (group[0]=='Age' or group[1]=='Age'):\n",
    "        if group[0]=='Age':\n",
    "            total_num = dataframe[dataframe[group[1]]==value[1]].groupby([group[0]]).size()[value[0][0]:value[0][1]].sum().astype('float')\n",
    "            if dataframe[(dataframe['Survived']==1) & (dataframe[group[1]]==value[1]) ].groupby([group[0]]).size()[value[0][0]:value[0][1]].sum()==0:\n",
    "                return 0\n",
    "            else:\n",
    "                survive_num = dataframe[(dataframe['Survived']==1) & (dataframe[group[1]]==value[1]) ].groupby([group[0]]).size()[value[0][0]:value[0][1]].sum().astype('float')\n",
    "        elif group[1]=='Age':\n",
    "            total_num = dataframe[dataframe[group[0]]==value[0]].groupby([group[1]]).size()[value[1][0]:value[1][1]].sum().astype('float')\n",
    "            if dataframe[(dataframe['Survived']==1) & (dataframe[group[0]]==value[0]) ].groupby([group[1]]).size()[value[1][0]:value[1][1]].sum()==0:\n",
    "                return 0\n",
    "            else:\n",
    "                survive_num = dataframe[(dataframe['Survived']==1) & (dataframe[group[0]]==value[0]) ].groupby([group[1]]).size()[value[1][0]:value[1][1]].sum().astype('float')\n",
    "    else:\n",
    "        total_num = dataframe.groupby([group[0], group[1]]).size()[value[0], value[1]].astype('float')\n",
    "        survive_num = dataframe[dataframe['Survived']==1].groupby([group[0], group[1]]).size()[value[0], value[1]].astype('float')\n",
    "    return (survive_num/total_num*100).round(2)\n",
    "\n",
    "# Uncomment for testing\n",
    "#calc_survival_rate_2D(titanic_data_clean,['Pclass','Sex'],[3,'male'])\n",
    "#calc_survival_rate_2D(titanic_data_clean,['Age', 'Sex'],[[5.001,10],'male'])\n",
    "#calc_survival_rate_2D(titanic_data_clean,['Sex', 'Age'],['male', [5.001,10]])\n",
    "#calc_survival_rate_2D(titanic_data_clean,['Pclass', 'Age'],[3, [5.001,10]])"
   ]
  },
  {
   "cell_type": "code",
   "execution_count": 11,
   "metadata": {
    "collapsed": true
   },
   "outputs": [],
   "source": [
    "# Helper function calculates survival rate for three groupings\n",
    "\n",
    "# Takes in a dataset and values in the following order: 'Pclass' value, 'Sex' type, 'Age' range\n",
    "# Note: for 'Age', the user is expected to provide a range (e.g. [45.001,50])\n",
    "# Outputs the survival rate accurate to 2 decimal points\n",
    "def calc_survival_rate_3D(dataframe, value):\n",
    "    total_num = dataframe[(dataframe['Pclass']==value[0]) & (dataframe['Sex']==value[1])].groupby(['Age']).size()[value[2][0]:value[2][1]].sum().astype('float')\n",
    "    survive_num = dataframe[(dataframe['Survived']==1) & (dataframe['Pclass']==value[0]) & (dataframe['Sex']==value[1])].groupby(['Age']).size()[value[2][0]:value[2][1]].sum().astype('float')\n",
    "    return (survive_num/total_num*100).round(2)\n",
    "\n",
    "# Uncomment for testing\n",
    "#calc_survival_rate_3D(titanic_data_clean,[1,'male',[30.001,35]])"
   ]
  },
  {
   "cell_type": "markdown",
   "metadata": {},
   "source": [
    "## Question 1 - What was the Survival Rate by Age?\n",
    "\n",
    "Firstly I was interested to see the distribution of ages in the data set to identify what would be an appropriate number of bins to segregate the passengers into."
   ]
  },
  {
   "cell_type": "code",
   "execution_count": 12,
   "metadata": {},
   "outputs": [
    {
     "data": {
      "text/plain": [
       "<matplotlib.text.Text at 0x92eed68>"
      ]
     },
     "execution_count": 12,
     "metadata": {},
     "output_type": "execute_result"
    },
    {
     "data": {
      "image/png": "[encoded data removed]",
      "text/plain": [
       "<matplotlib.figure.Figure at 0x41797f0>"
      ]
     },
     "metadata": {},
     "output_type": "display_data"
    }
   ],
   "source": [
    "#Plot histogram of passenger's age distribution\n",
    "titanic_data_clean.hist(column='Age', bins=16)\n",
    "plt.xlabel(\"Age\")\n",
    "plt.ylabel(\"Number of passengers\")\n",
    "plt.title(\"Distribution of Passengers by Age\")"
   ]
  },
  {
   "cell_type": "markdown",
   "metadata": {},
   "source": [
    "Being as the oldest person was 80, it was deemed most logical to break the age groups into 16 bins (i.e. each bin to span 5 years).\n",
    "\n",
    "Next was to visualize the age distribution of those that survived and those that did not."
   ]
  },
  {
   "cell_type": "code",
   "execution_count": 13,
   "metadata": {},
   "outputs": [
    {
     "data": {
      "text/plain": [
       "<matplotlib.legend.Legend at 0x9258f98>"
      ]
     },
     "execution_count": 13,
     "metadata": {},
     "output_type": "execute_result"
    },
    {
     "data": {
      "image/png": "[encoded data removed]",
      "text/plain": [
       "<matplotlib.figure.Figure at 0x941c3c8>"
      ]
     },
     "metadata": {},
     "output_type": "display_data"
    }
   ],
   "source": [
    "#Plot histogram of passenger's age distribution segregated by who survived and who did not\n",
    "titanic_data_clean.Age[titanic_data_clean.Survived == 1].plot(kind='hist', bins=16)\n",
    "titanic_data_clean.Age[titanic_data_clean.Survived == 0].plot(kind='hist', bins=16, alpha=0.4)\n",
    "plt.xlabel(\"Age\")\n",
    "plt.ylabel(\"Number of passengers\")\n",
    "plt.title(\"Distribution of Passengers by Age\")\n",
    "plt.legend(('Survived','Died'))"
   ]
  },
  {
   "cell_type": "code",
   "execution_count": 37,
   "metadata": {},
   "outputs": [
    {
     "name": "stdout",
     "output_type": "stream",
     "text": [
      "Survival Rate (0.0 < Age <= 5.0): 70.45%\n",
      "Survival Rate (5.0 < Age <= 10.0): 35.0%\n",
      "Survival Rate (10.0 < Age <= 15.0): 57.89%\n",
      "Survival Rate (15.0 < Age <= 20.0): 34.38%\n",
      "Survival Rate (20.0 < Age <= 25.0): 34.43%\n",
      "Survival Rate (25.0 < Age <= 30.0): 38.89%\n",
      "Survival Rate (30.0 < Age <= 35.0): 46.59%\n",
      "Survival Rate (35.0 < Age <= 40.0): 41.79%\n",
      "Survival Rate (40.0 < Age <= 45.0): 36.17%\n",
      "Survival Rate (45.0 < Age <= 50.0): 41.03%\n",
      "Survival Rate (50.0 < Age <= 55.0): 41.67%\n",
      "Survival Rate (55.0 < Age <= 60.0): 38.89%\n",
      "Survival Rate (60.0 < Age <= 65.0): 28.57%\n",
      "Survival Rate (65.0 < Age <= 70.0): 0%\n",
      "Survival Rate (70.0 < Age <= 75.0): 0%\n",
      "Survival Rate (75.0 < Age <= 80.0): 100.0%\n"
     ]
    },
    {
     "data": {
      "text/plain": [
       "<matplotlib.text.Text at 0xc60dd30>"
      ]
     },
     "execution_count": 37,
     "metadata": {},
     "output_type": "execute_result"
    },
    {
     "data": {
      "image/png": "[encoded data removed]",
      "text/plain": [
       "<matplotlib.figure.Figure at 0xc4b2400>"
      ]
     },
     "metadata": {},
     "output_type": "display_data"
    }
   ],
   "source": [
    "#Calulate and print out survival rates by age groups \n",
    "survival_rate_by_age_groups = []\n",
    "index = []\n",
    "bins = 16\n",
    "age_bins = pd.cut(titanic_data_clean['Age'].values, bins, retbins=True)\n",
    "\n",
    "for i in range(0,bins):\n",
    "    \n",
    "    survival_rate = calc_survival_rate_1D(titanic_data_clean, 'Age', [age_bins[1][i],age_bins[1][i+1]])\n",
    "    survival_rate_by_age_groups.append({'Survival_rate': survival_rate})\n",
    "    index.append(age_bins[1][i+1])\n",
    "    print 'Survival Rate (' + str(age_bins[1][i].round(0)) + ' < Age <= ' + str(age_bins[1][i+1].round(0)) + '): ' + str(survival_rate) + '%'\n",
    "\n",
    "#Plot line graph of survival rates by age group\n",
    "df = pd.DataFrame(survival_rate_by_age_groups, index)\n",
    "df.plot()\n",
    "plt.ylabel(\"Survival Rate (%)\")\n",
    "plt.xlabel(\"Age\")\n",
    "plt.title(\"Survival Rate by Age Group\")"
   ]
  },
  {
   "cell_type": "markdown",
   "metadata": {},
   "source": [
    "#### Conclusion\n",
    "\n",
    "As expected the survival rate was slightly better for passengers aged 15 years old and younger. However for the rest of the age groups, the survival rate ranged between 34% and 46%. The spike at age 80 can be disregarded as there was only one person aged 80 and he survived. In general, however, the survival rate declined for passengers above the age of 60."
   ]
  },
  {
   "cell_type": "markdown",
   "metadata": {},
   "source": [
    "## Question 2 - What was the Survival Rate by Gender?\n",
    "\n",
    "Moving on, I wanted to verify if gender played a role in a passenger's chances of survival."
   ]
  },
  {
   "cell_type": "code",
   "execution_count": null,
   "metadata": {},
   "outputs": [],
   "source": [
    "#Calulate and print out survival rates by gender \n",
    "survival_rate_by_sex = []\n",
    "index = []\n",
    "for i in ['male','female']:\n",
    "    survival_rate = calc_survival_rate_1D(titanic_data_clean, 'Sex', i)\n",
    "    survival_rate_by_sex.append({'Survival_rate': survival_rate})\n",
    "    index.append(i)\n",
    "    print 'Survival Rate (' + i + '): ' + str(survival_rate) + '%'\n",
    "\n",
    "#Plot histogram of survival rates by gender\n",
    "df = pd.DataFrame(survival_rate_by_sex, index)\n",
    "df.plot(kind='bar', rot=0)\n",
    "plt.ylabel(\"Survival Rate (%)\")\n",
    "plt.xlabel(\"Sex\")\n",
    "plt.title(\"Survival Rate by Gender\")"
   ]
  },
  {
   "cell_type": "markdown",
   "metadata": {},
   "source": [
    "#### Conclusion\n",
    "\n",
    "It is clear that female passengers had a significantly higher chance of surviving the Titanic disaster than their male counterparts. To be exact, females were 3.6 times more likely to survive compared to males. "
   ]
  },
  {
   "cell_type": "markdown",
   "metadata": {},
   "source": [
    "## Question 3 - Did women and children really have a higher chance of survival?\n",
    "\n",
    "Based on the results presented in question 2, it would appear that women definitely were given higher priority when deciding who should be allowed to board the lifeboats. As for children, it would appear that our modern day definition of a child (i.e. less than 18 years old) is probably a little different than the definition of a child in the 1900's. Because the survival rate for persons above 15 years old mirrors that of the survival rate of persons aged 20-60, one can infer that only persons below the age of 15 would have been considered a child when selecting who should board the lifeboats first. "
   ]
  },
  {
   "cell_type": "markdown",
   "metadata": {},
   "source": [
    "## Question 4 - Being a male age 32, what would be my chances of survival in a similar situation?\n",
    "\n",
    "Just in case I was ever in a situation similar to the Titanic, using Titanic as a proxy, I was curious to know what would be my chances of survival."
   ]
  },
  {
   "cell_type": "code",
   "execution_count": null,
   "metadata": {},
   "outputs": [],
   "source": [
    "print 'Average Survival Rate: ' + str((titanic_data_clean['Survived'].mean()*100).round(2)) + '%'\n",
    "print ''\n",
    "\n",
    "#Calulate and print out survival rates of males across all age groups \n",
    "survival_rate_by_male_age_groups = []\n",
    "index = []\n",
    "for i in range(0,16):\n",
    "    start_age = i*5\n",
    "    end_age = (i+1)*5\n",
    "    \n",
    "    survival_rate = calc_survival_rate_2D(titanic_data_clean, ['Sex', 'Age'], ['male', [start_age+0.001,end_age]])\n",
    "    survival_rate_by_male_age_groups.append({'Survival_rate': survival_rate})\n",
    "    index.append(end_age)\n",
    "    if end_age == 35:\n",
    "        print '\\033[1m' + 'Survival Rate (Male, ' + str(start_age) + ' < Age <= ' + str(end_age) + '): ' + str(survival_rate) + '%' + '\\033[0m'\n",
    "    else:\n",
    "        print 'Survival Rate (Male, ' + str(start_age) + ' < Age <= ' + str(end_age) + '): ' + str(survival_rate) + '%'\n",
    "\n",
    "#Plot line graph of survival rates of males across all age groups \n",
    "df = pd.DataFrame(survival_rate_by_male_age_groups, index)\n",
    "df.plot()\n",
    "plt.ylabel(\"Survival Rate (%)\")\n",
    "plt.xlabel(\"Age\")\n",
    "plt.title(\"Survival Rate by Age Group (Male)\")\n"
   ]
  },
  {
   "cell_type": "markdown",
   "metadata": {},
   "source": [
    "#### Conclusion\n",
    "\n",
    "As a male aged 32, my chances of survival is one of the lowest at 26%, 15% points lower than the global average of 41%. Therefore in order to survive such a disaster I would have to rely on other factors besides my age and gender to increase by chances of survival.   "
   ]
  },
  {
   "cell_type": "markdown",
   "metadata": {
    "collapsed": true
   },
   "source": [
    "## Question 5 - Did social-economic standing help a passenger's chances of survival?\n",
    "\n",
    "Being interested in my own self-preservation, I wanted to quantify how much more I would increase my chances of survival by making sure I buy a first class ticket the next time I am on a cruise ship."
   ]
  },
  {
   "cell_type": "code",
   "execution_count": null,
   "metadata": {},
   "outputs": [],
   "source": [
    "#Calulate and print out survival rates by social economic status \n",
    "survival_rate_by_class = []\n",
    "class_name = ['Upperclass', 'Middleclass', 'Lowerclass']\n",
    "index = []\n",
    "for i in [1,2,3]:\n",
    "    survival_rate = calc_survival_rate_1D(titanic_data_clean, 'Pclass', i)\n",
    "    survival_rate_by_class.append({'Survival_rate': survival_rate})\n",
    "    index.append(class_name[i-1])\n",
    "    print 'Survival Rate (' + index[i-1] + '): ' + str(survival_rate) + '%'\n",
    "\n",
    "#Plot histogram of survival rates by social economic status\n",
    "df = pd.DataFrame(survival_rate_by_class, index)\n",
    "df.plot(kind='bar', rot=0)\n",
    "plt.ylabel(\"Survival Rate (%)\")\n",
    "plt.xlabel(\"Class\")\n",
    "plt.title(\"Survival Rate by Class\")"
   ]
  },
  {
   "cell_type": "markdown",
   "metadata": {},
   "source": [
    "It is clear from the results above that upperclass passengers were given priority to board the lifeboats. Either that or their cabins were located closer to the lifeboats and therefore were given priority on a first-come, first-serve basis. But if the crew members were truly working on a first-come, first-serve basis, then I would assume the survival rate of males and females in the upperclass would be roughly equal. "
   ]
  },
  {
   "cell_type": "code",
   "execution_count": null,
   "metadata": {},
   "outputs": [],
   "source": [
    "#Calulate and print out survival rates by social economic status and gender  \n",
    "survival_rate_by_class_sex = []\n",
    "class_name = ['Upperclass', 'Middleclass', 'Lowerclass']\n",
    "index = []\n",
    "i=1\n",
    "while i<=3:\n",
    "    survival_rate_by_class_sex_row = []\n",
    "    for j in ['male','female']:\n",
    "        survival_rate = calc_survival_rate_2D(titanic_data_clean, ['Pclass', 'Sex'], [i, j])\n",
    "        survival_rate_by_class_sex_row.append(survival_rate)\n",
    "        index.append(class_name[i-1] + '-' + j)\n",
    "\n",
    "        print 'Survival Rate (' + class_name[i-1] + '-' + j + '): ' + str(survival_rate) + '%'\n",
    "    print '\\n'\n",
    "    survival_rate_by_class_sex.append(survival_rate_by_class_sex_row)\n",
    "    i+=1\n",
    "    \n",
    "#Plot histogram of survival rates by social economic status and gender  \n",
    "df = pd.DataFrame(survival_rate_by_class_sex, index=class_name, columns=['male','female'])\n",
    "df.plot(kind='bar', rot=0)\n",
    "plt.ylabel(\"Survival Rate (%)\")\n",
    "plt.xlabel(\"Class-Sex\")\n",
    "plt.title(\"Survival Rate by Class and Gender\") "
   ]
  },
  {
   "cell_type": "markdown",
   "metadata": {},
   "source": [
    "Across all social-economic groups, the probability of women surviving is significantly higher than men which indicates that the crew members were prioritizing women, regardless of social economic status, to board the life boats first. However these results also show that if you were an upperclass passenger, your chances or survival were indeed higher irregardless of gender. \n",
    "\n",
    "As I am narcissistic, I wanted to know how much higher my chances of survival would be if I were to buy a first class ticket versus an economy ticket."
   ]
  },
  {
   "cell_type": "code",
   "execution_count": null,
   "metadata": {},
   "outputs": [],
   "source": [
    "#Calulate and print out survival rates of males aged 30-35 across all classes  \n",
    "class_name = ['Upperclass', 'Middleclass', 'Lowerclass']\n",
    "index = []\n",
    "\n",
    "for i in [1,2,3]:\n",
    "    survival_rate = calc_survival_rate_3D(titanic_data_clean, [i, 'male', [30.001,35]])\n",
    "    index.append(class_name[i-1] + ', Male aged 30-35')\n",
    "    print 'Survival Rate (' + index[i-1] + '): ' + str(survival_rate) + '%'"
   ]
  },
  {
   "cell_type": "markdown",
   "metadata": {},
   "source": [
    "If you refer back to question 4, as a male aged 32, my chances of survival was at 26%. By buying a first class ticket, I can improve my odds of survivng by 2.6x. However, if I choose to buy any other ticket besides a first class ticket, I reduce my chances of survival even further to ~18%. "
   ]
  },
  {
   "cell_type": "markdown",
   "metadata": {},
   "source": [
    "## Conclusion\n",
    "\n",
    "Before providing the conclusions, it should be highlighted again that this dataset only accounts for 891 of the 2,224 passengers and crew members that were aboard the Titanic. We are uncertain how this dataset was obtained and if it truly represents a random sample. It could be that the lower class is under-represented in this sample because they failed to provide their names and information to the passenger manifesto or that this dataset is skewed towards a certain port of embarkation. The graphs below seem to refute the former but support the latter assertion as there seems to be a much higher percentage of passengers in the sample dataset embarking from Southampton. But again, this could also be because Southampton is a bigger port. Nevertheless, these caveats are being highlighted to emphasize the point that the conclusions drawn below are being derived based on a sample of the total population and that the origins of the sample dataset are uncertain.    "
   ]
  },
  {
   "cell_type": "code",
   "execution_count": null,
   "metadata": {},
   "outputs": [],
   "source": [
    "#Plot histogram of number of passengers in each class\n",
    "class_name = ['Upperclass', 'Middleclass', 'Lowerclass']\n",
    "sns.factorplot('Pclass', data = titanic_data_clean, kind = 'count').set_xticklabels(class_name)\n",
    "plt.xlabel(\"Class\")\n",
    "plt.ylabel(\"Number of passengers\")\n",
    "plt.title(\"Number of Passengers by Class\")"
   ]
  },
  {
   "cell_type": "code",
   "execution_count": null,
   "metadata": {},
   "outputs": [],
   "source": [
    "#Plot histogram of number of passengers from each port\n",
    "port_name = ['Southampton', 'Cherbourg', 'Queenstown']\n",
    "sns.factorplot('Embarked', data = titanic_data_clean, kind = 'count').set_xticklabels(port_name)\n",
    "plt.xlabel(\"Port\")\n",
    "plt.ylabel(\"Number of passengers\")\n",
    "plt.title(\"Number of Passengers by Port\")"
   ]
  },
  {
   "cell_type": "markdown",
   "metadata": {},
   "source": [
    "In summary, these are the following conclusions we can make from the given dataset:\n",
    "\n",
    "1. Survival rates for children were slightly higher although the definition of a child in this case is below the age of 15\n",
    "2. Women were definitely given priority regardless of age and social economic standing\n",
    "3. A passenger's chances of survival were very dependent on their social economic standing. Upperclass and middleclass passengers were clearly given priority over the lowerclass passengers  \n",
    "4. If I want to survive another Titanic-like disaster, I should buy a first class ticket. Any other ticket would surely result in my demise"
   ]
  }
 ],
 "metadata": {
  "kernelspec": {
   "display_name": "Python 2",
   "language": "python",
   "name": "python2"
  },
  "language_info": {
   "codemirror_mode": {
    "name": "ipython",
    "version": 2
   },
   "file_extension": ".py",
   "mimetype": "text/x-python",
   "name": "python",
   "nbconvert_exporter": "python",
   "pygments_lexer": "ipython2",
   "version": "2.7.13"
  }
 },
 "nbformat": 4,
 "nbformat_minor": 2
}
